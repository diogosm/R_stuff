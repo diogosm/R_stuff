{
 "cells": [
  {
   "cell_type": "code",
   "execution_count": 19,
   "metadata": {},
   "outputs": [],
   "source": [
    "'''\n",
    "    Referencias: \n",
    "        https://realpython.com/linear-regression-in-python/\n",
    "        https://stackoverflow.com/questions/35236836/weighted-linear-regression-with-scikit-learn\n",
    "        \n",
    "    Explicação:\n",
    "        (paper = On the Impact of Device Characteristics on Opportunistic Network Performance)\n",
    "        A lesser weight indicates that the parameter has less impact on the result \n",
    "        of the linear function, i.e. the metric it is applied on.\n",
    "'''\n",
    "\n",
    "import numpy as np\n",
    "from sklearn.linear_model import LinearRegression\n",
    "\n",
    "vars = [[1,0.5], [1,1], [2,0.5], [2,1], [3,0.5], [3,1]]\n",
    "\n",
    "## probability of delivery\n",
    "res = [0.7, 0.9, 0.3, 0.5, 0.000005, 0.15]"
   ]
  },
  {
   "cell_type": "code",
   "execution_count": 21,
   "metadata": {},
   "outputs": [
    {
     "ename": "AttributeError",
     "evalue": "'LinearRegression' object has no attribute 'summary'",
     "output_type": "error",
     "traceback": [
      "\u001b[1;31m---------------------------------------------------------------------------\u001b[0m",
      "\u001b[1;31mAttributeError\u001b[0m                            Traceback (most recent call last)",
      "\u001b[1;32m<ipython-input-21-dbb5d188824c>\u001b[0m in \u001b[0;36m<module>\u001b[1;34m\u001b[0m\n\u001b[0;32m      3\u001b[0m \u001b[0mmodel\u001b[0m \u001b[1;33m=\u001b[0m \u001b[0mLinearRegression\u001b[0m\u001b[1;33m(\u001b[0m\u001b[1;33m)\u001b[0m\u001b[1;33m.\u001b[0m\u001b[0mfit\u001b[0m\u001b[1;33m(\u001b[0m\u001b[0mx\u001b[0m\u001b[1;33m,\u001b[0m \u001b[0my\u001b[0m\u001b[1;33m)\u001b[0m\u001b[1;33m\u001b[0m\u001b[1;33m\u001b[0m\u001b[0m\n\u001b[0;32m      4\u001b[0m \u001b[1;33m\u001b[0m\u001b[0m\n\u001b[1;32m----> 5\u001b[1;33m \u001b[0mprint\u001b[0m\u001b[1;33m(\u001b[0m\u001b[0mmodel\u001b[0m\u001b[1;33m.\u001b[0m\u001b[0msummary\u001b[0m\u001b[1;33m(\u001b[0m\u001b[1;33m)\u001b[0m\u001b[1;33m)\u001b[0m\u001b[1;33m\u001b[0m\u001b[1;33m\u001b[0m\u001b[0m\n\u001b[0m\u001b[0;32m      6\u001b[0m \u001b[1;33m\u001b[0m\u001b[0m\n\u001b[0;32m      7\u001b[0m \u001b[1;31m## get results\u001b[0m\u001b[1;33m\u001b[0m\u001b[1;33m\u001b[0m\u001b[1;33m\u001b[0m\u001b[0m\n",
      "\u001b[1;31mAttributeError\u001b[0m: 'LinearRegression' object has no attribute 'summary'"
     ]
    }
   ],
   "source": [
    "x, y = np.array(vars), np.array(res)\n",
    "\n",
    "model = LinearRegression().fit(x, y)\n",
    "\n",
    "## get results\n",
    "r_sq = model.score(x, y)\n",
    "\n",
    "## You obtain the value of 𝑅² using .score()\n",
    "print('coefficient of determination:', r_sq)\n",
    "\n",
    "## .intercept_ holds the bias 𝑏₀,\n",
    "## \n",
    "print('intercept:', model.intercept_)\n",
    "\n",
    "## .coef_ is an array containing 𝑏₁ and 𝑏₂ respectively.\n",
    "print('slope:', model.coef_)\n",
    "\n",
    "y_pred = model.predict(x)\n",
    "print('predicted response:', y_pred, sep='\\n')\n",
    "\n",
    "'''\n",
    "    Ex:\n",
    "    \n",
    "        r_sq = model.score(x, y)\n",
    "        print('coefficient of determination:', r_sq)\n",
    "            coefficient of determination: 0.8615939258756776\n",
    "        print('intercept:', model.intercept_)\n",
    "            intercept: 5.52257927519819\n",
    "        print('slope:', model.coef_)\n",
    "            slope: [0.44706965 0.25502548]\n",
    "        \n",
    "        In this example, the intercept is approximately 5.52, and \n",
    "        this is the value of the predicted response when 𝑥₁ = 𝑥₂ = 0. \n",
    "        The increase of 𝑥₁ by 1 yields the rise of the predicted response by 0.45. \n",
    "        Similarly, when 𝑥₂ grows by 1, the response rises by 0.26.\n",
    "'''"
   ]
  },
  {
   "cell_type": "code",
   "execution_count": null,
   "metadata": {},
   "outputs": [],
   "source": []
  }
 ],
 "metadata": {
  "kernelspec": {
   "display_name": "Python 3",
   "language": "python",
   "name": "python3"
  }
 },
 "nbformat": 4,
 "nbformat_minor": 4
}
