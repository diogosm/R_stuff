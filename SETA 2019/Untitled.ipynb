{
 "cells": [
  {
   "cell_type": "code",
   "execution_count": 162,
   "metadata": {},
   "outputs": [
    {
     "data": {
      "text/html": [
       "<div>\n",
       "<style scoped>\n",
       "    .dataframe tbody tr th:only-of-type {\n",
       "        vertical-align: middle;\n",
       "    }\n",
       "\n",
       "    .dataframe tbody tr th {\n",
       "        vertical-align: top;\n",
       "    }\n",
       "\n",
       "    .dataframe thead th {\n",
       "        text-align: right;\n",
       "    }\n",
       "</style>\n",
       "<table border=\"1\" class=\"dataframe\">\n",
       "  <thead>\n",
       "    <tr style=\"text-align: right;\">\n",
       "      <th></th>\n",
       "      <th>Nome</th>\n",
       "      <th>TICS</th>\n",
       "      <th>DESCRITORES</th>\n",
       "    </tr>\n",
       "  </thead>\n",
       "  <tbody>\n",
       "    <tr>\n",
       "      <th>0</th>\n",
       "      <td>Uso de TIC por professores em aulas do ensino ...</td>\n",
       "      <td>3</td>\n",
       "      <td>66.666667</td>\n",
       "    </tr>\n",
       "    <tr>\n",
       "      <th>1</th>\n",
       "      <td>Um objeto de aprendizagem para o ensino de Quí...</td>\n",
       "      <td>1</td>\n",
       "      <td>33.333333</td>\n",
       "    </tr>\n",
       "    <tr>\n",
       "      <th>2</th>\n",
       "      <td>O Uso de Multi rrepresentação e Ciclos de Inte...</td>\n",
       "      <td>1</td>\n",
       "      <td>33.333333</td>\n",
       "    </tr>\n",
       "    <tr>\n",
       "      <th>3</th>\n",
       "      <td>O uso das tecnologias de informação e comunica...</td>\n",
       "      <td>1</td>\n",
       "      <td>66.666667</td>\n",
       "    </tr>\n",
       "    <tr>\n",
       "      <th>4</th>\n",
       "      <td>O Papel Do Youtube No Ensino De Ciências Para ...</td>\n",
       "      <td>1</td>\n",
       "      <td>66.666667</td>\n",
       "    </tr>\n",
       "    <tr>\n",
       "      <th>5</th>\n",
       "      <td>A Utilização de Vídeos Didáticos nas Aulas de ...</td>\n",
       "      <td>1</td>\n",
       "      <td>0.000000</td>\n",
       "    </tr>\n",
       "    <tr>\n",
       "      <th>6</th>\n",
       "      <td>Ensino de Modelos para o Átomo por Meio de Rec...</td>\n",
       "      <td>1</td>\n",
       "      <td>33.333333</td>\n",
       "    </tr>\n",
       "    <tr>\n",
       "      <th>7</th>\n",
       "      <td>Uma Arquitetura Pedagógica Apoiada Em Tecnolog...</td>\n",
       "      <td>2</td>\n",
       "      <td>100.000000</td>\n",
       "    </tr>\n",
       "    <tr>\n",
       "      <th>8</th>\n",
       "      <td>Construção de Objetos de Aprendizagem para o E...</td>\n",
       "      <td>1</td>\n",
       "      <td>33.333333</td>\n",
       "    </tr>\n",
       "    <tr>\n",
       "      <th>9</th>\n",
       "      <td>O Computador No Ensino De Química: Impressões ...</td>\n",
       "      <td>1</td>\n",
       "      <td>100.000000</td>\n",
       "    </tr>\n",
       "  </tbody>\n",
       "</table>\n",
       "</div>"
      ],
      "text/plain": [
       "                                                Nome  TICS  DESCRITORES\n",
       "0  Uso de TIC por professores em aulas do ensino ...     3    66.666667\n",
       "1  Um objeto de aprendizagem para o ensino de Quí...     1    33.333333\n",
       "2  O Uso de Multi rrepresentação e Ciclos de Inte...     1    33.333333\n",
       "3  O uso das tecnologias de informação e comunica...     1    66.666667\n",
       "4  O Papel Do Youtube No Ensino De Ciências Para ...     1    66.666667\n",
       "5  A Utilização de Vídeos Didáticos nas Aulas de ...     1     0.000000\n",
       "6  Ensino de Modelos para o Átomo por Meio de Rec...     1    33.333333\n",
       "7  Uma Arquitetura Pedagógica Apoiada Em Tecnolog...     2   100.000000\n",
       "8  Construção de Objetos de Aprendizagem para o E...     1    33.333333\n",
       "9  O Computador No Ensino De Química: Impressões ...     1   100.000000"
      ]
     },
     "execution_count": 162,
     "metadata": {},
     "output_type": "execute_result"
    }
   ],
   "source": [
    "import pandas\n",
    "\n",
    "df = pandas.read_csv(\"ticsquimica.csv\",delimiter=\";\",decimal=',')\n",
    "df[\"DESCRITORES\"] = df[\"DESCRITORES\"].apply(lambda x: x*100.0)\n",
    "df"
   ]
  },
  {
   "cell_type": "code",
   "execution_count": 163,
   "metadata": {},
   "outputs": [
    {
     "data": {
      "text/plain": [
       "([<matplotlib.axis.YTick at 0x7f862b1ef450>,\n",
       "  <matplotlib.axis.YTick at 0x7f862b1fbed0>,\n",
       "  <matplotlib.axis.YTick at 0x7f862b1fb2d0>,\n",
       "  <matplotlib.axis.YTick at 0x7f862b259c10>,\n",
       "  <matplotlib.axis.YTick at 0x7f862b259350>],\n",
       " <a list of 5 Text yticklabel objects>)"
      ]
     },
     "execution_count": 163,
     "metadata": {},
     "output_type": "execute_result"
    },
    {
     "data": {
      "image/png": "[encoded data removed]",
      "text/plain": [
       "<Figure size 432x288 with 1 Axes>"
      ]
     },
     "metadata": {
      "needs_background": "light"
     },
     "output_type": "display_data"
    }
   ],
   "source": [
    "df.rename(columns={\"TICS\": \"TIC's\", \"DESCRITORES\": \"Descritores\", \"Nome\": \"Título do Artigo\"}, inplace=True)\n",
    "\n",
    "import matplotlib.pyplot\n",
    "from scipy.stats import gaussian_kde as kde\n",
    "from matplotlib.colors import Normalize\n",
    "from matplotlib import cm\n",
    "\n",
    "fig, ax = matplotlib.pyplot.subplots()\n",
    "ax.scatter(df[\"TIC's\"], df[\"Descritores\"], alpha=0.53, s=10)\n",
    "\n",
    "mapa={}\n",
    "mapa2={}\n",
    "valoresXY=[]\n",
    "\n",
    "for i, txt in df.iterrows():\n",
    "    x = []\n",
    "    x.append(txt[\"TIC's\"])\n",
    "    x.append(txt[\"Descritores\"])\n",
    "    if (txt[\"TIC's\"], txt[\"Descritores\"]) not in mapa:\n",
    "        mapa[(txt[\"TIC's\"], txt[\"Descritores\"])] = 0\n",
    "        mapa2[(txt[\"TIC's\"], txt[\"Descritores\"])] = 0\n",
    "    else:\n",
    "        valor = mapa[(txt[\"TIC's\"], txt[\"Descritores\"])]\n",
    "        mapa[(txt[\"TIC's\"], txt[\"Descritores\"])] = valor+1\n",
    "        mapa2[(txt[\"TIC's\"], txt[\"Descritores\"])] = valor+1\n",
    "    valoresXY.append(x)\n",
    "\n",
    "for i, txt in df.iterrows():\n",
    "    if mapa2[(txt[\"TIC's\"], txt[\"Descritores\"])] > 0:\n",
    "        texto = str(i) + \",\"\n",
    "    else:\n",
    "        texto = str(i)\n",
    "    ax.annotate(texto, (txt[\"TIC's\"],txt[\"Descritores\"]), \n",
    "                xytext=(txt[\"TIC's\"] + (mapa[(txt[\"TIC's\"], txt[\"Descritores\"])]-\n",
    "                                        mapa2[(txt[\"TIC's\"], txt[\"Descritores\"])]) * 0.07\n",
    "                        ,txt[\"Descritores\"]+0.03))\n",
    "    mapa2[(txt[\"TIC's\"], txt[\"Descritores\"])]=mapa2[(txt[\"TIC's\"], txt[\"Descritores\"])]-1\n",
    "    \n",
    "matplotlib.pyplot.xlabel(\"TIC's\")\n",
    "matplotlib.pyplot.ylabel('Descritores')\n",
    "matplotlib.pyplot.xticks(np.arange(0, 4, step=1))\n",
    "matplotlib.pyplot.yticks(np.arange(0, 5, step=1))"
   ]
  },
  {
   "cell_type": "code",
   "execution_count": 165,
   "metadata": {},
   "outputs": [
    {
     "data": {
      "text/plain": [
       "([<matplotlib.axis.XTick at 0x7f862b2e0650>,\n",
       "  <matplotlib.axis.XTick at 0x7f862b2e0190>,\n",
       "  <matplotlib.axis.XTick at 0x7f862b38c250>,\n",
       "  <matplotlib.axis.XTick at 0x7f862b297890>,\n",
       "  <matplotlib.axis.XTick at 0x7f862b297e10>,\n",
       "  <matplotlib.axis.XTick at 0x7f862b3000d0>,\n",
       "  <matplotlib.axis.XTick at 0x7f862b2a3650>,\n",
       "  <matplotlib.axis.XTick at 0x7f862b2a3bd0>,\n",
       "  <matplotlib.axis.XTick at 0x7f862b2ad190>,\n",
       "  <matplotlib.axis.XTick at 0x7f862b2ad710>],\n",
       " <a list of 10 Text xticklabel objects>)"
      ]
     },
     "execution_count": 165,
     "metadata": {},
     "output_type": "execute_result"
    },
    {
     "data": {
      "image/png": "[encoded data removed]",
      "text/plain": [
       "<Figure size 432x288 with 1 Axes>"
      ]
     },
     "metadata": {
      "needs_background": "light"
     },
     "output_type": "display_data"
    }
   ],
   "source": [
    "matplotlib.pyplot.bar(np.arange(1,11,step=1), df[\"Descritores\"],hatch=\"/\")\n",
    "\n",
    "# -*- coding: utf-8 -*-\n",
    "\n",
    "matplotlib.pyplot.xlabel(r'Refer$\\^e$ncia')\n",
    "matplotlib.pyplot.ylabel(\"Descritores (%)\")\n",
    "matplotlib.pyplot.xticks(np.arange(1, 11, step=1))"
   ]
  }
 ],
 "metadata": {
  "kernelspec": {
   "display_name": "Python 2",
   "language": "python",
   "name": "python2"
  },
  "language_info": {
   "codemirror_mode": {
    "name": "ipython",
    "version": 2
   },
   "file_extension": ".py",
   "mimetype": "text/x-python",
   "name": "python",
   "nbconvert_exporter": "python",
   "pygments_lexer": "ipython2",
   "version": "2.7.16"
  }
 },
 "nbformat": 4,
 "nbformat_minor": 2
}
